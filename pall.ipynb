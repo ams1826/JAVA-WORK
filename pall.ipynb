{
 "cells": [
  {
   "cell_type": "code",
   "execution_count": 2,
   "metadata": {},
   "outputs": [
    {
     "name": "stdout",
     "output_type": "stream",
     "text": [
      "90\n"
     ]
    }
   ],
   "source": [
    "n = 100\n",
    "count = 0\n",
    "rev = 0\n",
    "while n<=1000:\n",
    "    temp = n\n",
    "    while temp != 0:\n",
    "        rev = rev * 10\n",
    "        rev = rev + temp%10\n",
    "        temp = temp//10\n",
    "    if rev == n:\n",
    "        count += 1\n",
    "    rev = 0\n",
    "    n+=1\n",
    "print(count)"
   ]
  },
  {
   "cell_type": "code",
   "execution_count": 13,
   "metadata": {},
   "outputs": [
    {
     "name": "stdout",
     "output_type": "stream",
     "text": [
      "3\n",
      "3329667\n"
     ]
    }
   ],
   "source": [
    "a = 999\n",
    "b = 9999\n",
    "n = 2\n",
    "hcf = 1\n",
    "\n",
    "while (n<=a):\n",
    "    if (a%n==0 and b%n==0):\n",
    "        hcf = hcf * n\n",
    "        a = a//n\n",
    "        b = b//n\n",
    "    n += 1\n",
    "print(hcf)\n",
    "print(hcf * a * b)"
   ]
  }
 ],
 "metadata": {
  "kernelspec": {
   "display_name": "Python 3",
   "language": "python",
   "name": "python3"
  },
  "language_info": {
   "codemirror_mode": {
    "name": "ipython",
    "version": 3
   },
   "file_extension": ".py",
   "mimetype": "text/x-python",
   "name": "python",
   "nbconvert_exporter": "python",
   "pygments_lexer": "ipython3",
   "version": "3.10.5"
  },
  "orig_nbformat": 4
 },
 "nbformat": 4,
 "nbformat_minor": 2
}
