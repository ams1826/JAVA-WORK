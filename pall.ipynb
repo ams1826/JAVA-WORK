{
 "cells": [
  {
   "cell_type": "code",
   "execution_count": 2,
   "metadata": {},
   "outputs": [
    {
     "name": "stdout",
     "output_type": "stream",
     "text": [
      "90\n"
     ]
    }
   ],
   "source": [
    "n = 100\n",
    "count = 0\n",
    "rev = 0\n",
    "while n<=1000:\n",
    "    temp = n\n",
    "    while temp != 0:\n",
    "        rev = rev * 10\n",
    "        rev = rev + temp%10\n",
    "        temp = temp//10\n",
    "    if rev == n:\n",
    "        count += 1\n",
    "    rev = 0\n",
    "    n+=1\n",
    "print(count)"
   ]
  },
  {
   "cell_type": "code",
   "execution_count": 6,
   "metadata": {},
   "outputs": [
    {
     "name": "stdout",
     "output_type": "stream",
     "text": [
      "3.10.5\n"
     ]
    }
   ],
   "source": [
    "from platform import python_version\n",
    "print(python_version())"
   ]
  },
  {
   "cell_type": "code",
   "execution_count": 13,
   "metadata": {},
   "outputs": [
    {
     "name": "stdout",
     "output_type": "stream",
     "text": [
      "3\n",
      "3329667\n"
     ]
    }
   ],
   "source": [
    "a = 999\n",
    "b = 9999\n",
    "n = 2\n",
    "hcf = 1\n",
    "\n",
    "while (n<=a):\n",
    "    if (a%n==0 and b%n==0):\n",
    "        hcf = hcf * n\n",
    "        a = a//n\n",
    "        b = b//n\n",
    "    n += 1\n",
    "print(hcf)\n",
    "print(hcf * a * b)"
   ]
  },
  {
   "cell_type": "code",
   "execution_count": 12,
   "metadata": {},
   "outputs": [
    {
     "ename": "TypeError",
     "evalue": "'tuple' object is not callable",
     "output_type": "error",
     "traceback": [
      "\u001b[1;31m---------------------------------------------------------------------------\u001b[0m",
      "\u001b[1;31mTypeError\u001b[0m                                 Traceback (most recent call last)",
      "\u001b[1;32mc:\\Users\\Akash kumar\\Documents\\TREE\\A. DSA\\JAVA\\pall.ipynb Cell 4\u001b[0m in \u001b[0;36m<module>\u001b[1;34m\u001b[0m\n\u001b[0;32m      <a href='vscode-notebook-cell:/c%3A/Users/Akash%20kumar/Documents/TREE/A.%20DSA/JAVA/pall.ipynb#W3sZmlsZQ%3D%3D?line=0'>1</a>\u001b[0m values \u001b[39m=\u001b[39m \u001b[39minput\u001b[39m(\u001b[39m\"\u001b[39m\u001b[39menter values\u001b[39m\u001b[39m\"\u001b[39m)\n\u001b[0;32m      <a href='vscode-notebook-cell:/c%3A/Users/Akash%20kumar/Documents/TREE/A.%20DSA/JAVA/pall.ipynb#W3sZmlsZQ%3D%3D?line=1'>2</a>\u001b[0m \u001b[39mlist\u001b[39m \u001b[39m=\u001b[39m values\u001b[39m.\u001b[39msplit(\u001b[39m\"\u001b[39m\u001b[39m,\u001b[39m\u001b[39m\"\u001b[39m)\n\u001b[1;32m----> <a href='vscode-notebook-cell:/c%3A/Users/Akash%20kumar/Documents/TREE/A.%20DSA/JAVA/pall.ipynb#W3sZmlsZQ%3D%3D?line=2'>3</a>\u001b[0m tupl \u001b[39m=\u001b[39m \u001b[39mtuple\u001b[39;49m(\u001b[39mlist\u001b[39;49m)\n\u001b[0;32m      <a href='vscode-notebook-cell:/c%3A/Users/Akash%20kumar/Documents/TREE/A.%20DSA/JAVA/pall.ipynb#W3sZmlsZQ%3D%3D?line=3'>4</a>\u001b[0m \u001b[39mprint\u001b[39m(\u001b[39mlist\u001b[39m)\n\u001b[0;32m      <a href='vscode-notebook-cell:/c%3A/Users/Akash%20kumar/Documents/TREE/A.%20DSA/JAVA/pall.ipynb#W3sZmlsZQ%3D%3D?line=4'>5</a>\u001b[0m \u001b[39mprint\u001b[39m(tupl)\n",
      "\u001b[1;31mTypeError\u001b[0m: 'tuple' object is not callable"
     ]
    }
   ],
   "source": [
    "values = input(\"enter values\")\n",
    "list = values.split(\",\")\n",
    "tupl = tuple(list)\n",
    "print(list)\n",
    "print(tupl)"
   ]
  }
 ],
 "metadata": {
  "kernelspec": {
   "display_name": "Python 3",
   "language": "python",
   "name": "python3"
  },
  "language_info": {
   "codemirror_mode": {
    "name": "ipython",
    "version": 3
   },
   "file_extension": ".py",
   "mimetype": "text/x-python",
   "name": "python",
   "nbconvert_exporter": "python",
   "pygments_lexer": "ipython3",
   "version": "3.10.5"
  },
  "orig_nbformat": 4
 },
 "nbformat": 4,
 "nbformat_minor": 2
}
